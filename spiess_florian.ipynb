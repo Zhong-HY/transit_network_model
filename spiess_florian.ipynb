{
 "cells": [
  {
   "cell_type": "code",
   "execution_count": 11,
   "metadata": {
    "collapsed": false
   },
   "outputs": [
    {
     "name": "stdout",
     "output_type": "stream",
     "text": [
      "Populating the interactive namespace from numpy and matplotlib\n"
     ]
    }
   ],
   "source": [
    "import numpy as np\n",
    "import networkx as nx\n",
    "import matplotlib.pyplot as plt #plotting\n",
    "#make sure plots are embedded into the notebook\n",
    "%pylab inline "
   ]
  },
  {
   "cell_type": "code",
   "execution_count": 12,
   "metadata": {
    "collapsed": true
   },
   "outputs": [],
   "source": [
    "G = nx.DiGraph()"
   ]
  },
  {
   "cell_type": "code",
   "execution_count": 13,
   "metadata": {
    "collapsed": false
   },
   "outputs": [],
   "source": [
    "# I = ['A','X','X2','Y3','Y','B']\n",
    "# A = {('Y3','B'):4,('Y','Y3'):0,('X','Y3'):10,('Y','B'):0,('Y3','Y'):6,('X2','Y'):0,('X','X2'):0,('X2','X'):0,('A','X2'):7,('A','B'):25}\n",
    "Aw = [('Y3','B',4),('Y','Y3',0),('X','Y3',10),('Y','B',0),('Y3','Y',6),('X2','Y',0),('X','X2',0),('X2','X',0),('A','X2',7),('A','B',25)]\n",
    "# costs for the As\n",
    "# C = [4,        ,0          ,4        , 10      ,0         ,6         ,0,        ,0         ,7         ,25]"
   ]
  },
  {
   "cell_type": "code",
   "execution_count": 14,
   "metadata": {
    "collapsed": true
   },
   "outputs": [],
   "source": [
    "# G.add_edges_from(list(A.keys())) \n",
    "G.add_weighted_edges_from(Aw)"
   ]
  },
  {
   "cell_type": "code",
   "execution_count": 20,
   "metadata": {
    "collapsed": false
   },
   "outputs": [],
   "source": [
    "G.node['A']['u'] = np.inf"
   ]
  },
  {
   "cell_type": "code",
   "execution_count": 22,
   "metadata": {
    "collapsed": false
   },
   "outputs": [
    {
     "data": {
      "text/plain": [
       "[('A', {'u': inf}), ('B', {}), ('X2', {}), ('Y', {}), ('X', {}), ('Y3', {})]"
      ]
     },
     "execution_count": 22,
     "metadata": {},
     "output_type": "execute_result"
    }
   ],
   "source": [
    "G.nodes(data=True)"
   ]
  },
  {
   "cell_type": "markdown",
   "metadata": {},
   "source": [
    "### 1.1 Initialize\n",
    "inf travel time to all nodes except destination, which gets 0<br>\n",
    "0 combined frequencies of all selected links at node i<br>\n",
    "Set up the link lists"
   ]
  },
  {
   "cell_type": "code",
   "execution_count": 50,
   "metadata": {
    "collapsed": true
   },
   "outputs": [],
   "source": [
    "u = {}\n",
    "f = {}\n",
    "for i in I:\n",
    "    u[i] = np.inf\n",
    "    f[i] = 0\n",
    "u[I[-1]] = 0\n",
    "f[I[-1]] = 0\n",
    "S = list(A.keys()) # links to-do list\n",
    "A_ = [] # links done list"
   ]
  },
  {
   "cell_type": "markdown",
   "metadata": {},
   "source": [
    "The time considered is U[j] + c[a], that is, the time from the i-node of the link\n",
    "to the destination not including the waiting time at node i. If this time is smaller than\n",
    "the current time associated with node i, u,, link a is included in the optimal strategy and\n",
    "Ui and fi are updated according to the formulas given in step 1.3"
   ]
  },
  {
   "cell_type": "code",
   "execution_count": 73,
   "metadata": {
    "collapsed": false
   },
   "outputs": [
    {
     "ename": "IndexError",
     "evalue": "list assignment index out of range",
     "output_type": "error",
     "traceback": [
      "\u001b[1;31m---------------------------------------------------------------------------\u001b[0m",
      "\u001b[1;31mIndexError\u001b[0m                                Traceback (most recent call last)",
      "\u001b[1;32m<ipython-input-73-88b048f023db>\u001b[0m in \u001b[0;36m<module>\u001b[1;34m()\u001b[0m\n\u001b[0;32m      6\u001b[0m             \u001b[1;31m# update f[0]\u001b[0m\u001b[1;33m\u001b[0m\u001b[1;33m\u001b[0m\u001b[0m\n\u001b[0;32m      7\u001b[0m             \u001b[1;31m# update A_ = A_ + A.key\u001b[0m\u001b[1;33m\u001b[0m\u001b[1;33m\u001b[0m\u001b[0m\n\u001b[1;32m----> 8\u001b[1;33m             \u001b[1;32mdel\u001b[0m \u001b[0mS\u001b[0m\u001b[1;33m[\u001b[0m\u001b[0mi\u001b[0m\u001b[1;33m]\u001b[0m\u001b[1;33m\u001b[0m\u001b[0m\n\u001b[0m\u001b[0;32m      9\u001b[0m             \u001b[1;32mpass\u001b[0m\u001b[1;33m\u001b[0m\u001b[0m\n",
      "\u001b[1;31mIndexError\u001b[0m: list assignment index out of range"
     ]
    }
   ],
   "source": [
    "while len(S) > 0:\n",
    "    for i in np.arange(0,len(S)):\n",
    "        z = u[S[0][1]] + A[S[0]]\n",
    "        if u[S[0][0]] >= z:\n",
    "            # update u[S[0][0]]\n",
    "            # update f[0]\n",
    "            # update A_ = A_ + A.key\n",
    "            del S[i]\n",
    "            pass"
   ]
  },
  {
   "cell_type": "code",
   "execution_count": 74,
   "metadata": {
    "collapsed": false
   },
   "outputs": [
    {
     "data": {
      "text/plain": [
       "1"
      ]
     },
     "execution_count": 74,
     "metadata": {},
     "output_type": "execute_result"
    }
   ],
   "source": [
    "len(S)"
   ]
  },
  {
   "cell_type": "code",
   "execution_count": 64,
   "metadata": {
    "collapsed": false
   },
   "outputs": [
    {
     "data": {
      "text/plain": [
       "0"
      ]
     },
     "execution_count": 64,
     "metadata": {},
     "output_type": "execute_result"
    }
   ],
   "source": [
    "f[S[0][0]]"
   ]
  },
  {
   "cell_type": "code",
   "execution_count": 58,
   "metadata": {
    "collapsed": false
   },
   "outputs": [
    {
     "data": {
      "text/plain": [
       "('X', 'X2')"
      ]
     },
     "execution_count": 58,
     "metadata": {},
     "output_type": "execute_result"
    }
   ],
   "source": [
    "S[0]"
   ]
  },
  {
   "cell_type": "code",
   "execution_count": 72,
   "metadata": {
    "collapsed": false
   },
   "outputs": [
    {
     "data": {
      "text/plain": [
       "dict_keys([('X', 'X2'), ('A', 'B'), ('Y3', 'Y'), ('A', 'X2'), ('X2', 'Y'), ('Y3', 'B'), ('Y', 'Y3'), ('X', 'Y3'), ('Y', 'B'), ('X2', 'X')])"
      ]
     },
     "execution_count": 72,
     "metadata": {},
     "output_type": "execute_result"
    }
   ],
   "source": [
    "A.keys()"
   ]
  },
  {
   "cell_type": "code",
   "execution_count": null,
   "metadata": {
    "collapsed": true
   },
   "outputs": [],
   "source": []
  }
 ],
 "metadata": {
  "kernelspec": {
   "display_name": "Python 2",
   "language": "python",
   "name": "python2"
  },
  "language_info": {
   "codemirror_mode": {
    "name": "ipython",
    "version": 2
   },
   "file_extension": ".py",
   "mimetype": "text/x-python",
   "name": "python",
   "nbconvert_exporter": "python",
   "pygments_lexer": "ipython2",
   "version": "2.7.11"
  }
 },
 "nbformat": 4,
 "nbformat_minor": 0
}
